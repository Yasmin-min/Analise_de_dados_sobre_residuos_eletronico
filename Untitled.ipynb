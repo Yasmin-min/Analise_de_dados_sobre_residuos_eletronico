{
 "cells": [
  {
   "cell_type": "code",
   "execution_count": null,
   "id": "3bfdddf3",
   "metadata": {},
   "outputs": [],
   "source": [
    "import pandas as pd\n",
    "import numpy as np"
   ]
  },
  {
   "cell_type": "code",
   "execution_count": null,
   "id": "ec0fde40",
   "metadata": {},
   "outputs": [],
   "source": [
    "d = {'Junho 24': [42550, 73411], 'Julho 24': [63418, 82853], 'Agosto 24': [105616, 57753], 'Setembro 24': [48850, 26694],\n",
    "    'Outubro 24': [24921, 39668], 'Novembro 24': [33217, 24970], 'Dezembro 24': [22420, 31451], 'Janeiro 25': [73411, 9894],\n",
    "     'Fevereiro 25': [27080, 24468], 'Março 25': [28614, 21396]}\n",
    "df = pd.DataFrame(data=d)\n",
    "df.index.names = ['Entrada 0, Saida 1']\n",
    "df"
   ]
  }
 ],
 "metadata": {
  "kernelspec": {
   "display_name": "Python 3 (ipykernel)",
   "language": "python",
   "name": "python3"
  },
  "language_info": {
   "codemirror_mode": {
    "name": "ipython",
    "version": 3
   },
   "file_extension": ".py",
   "mimetype": "text/x-python",
   "name": "python",
   "nbconvert_exporter": "python",
   "pygments_lexer": "ipython3",
   "version": "3.11.5"
  }
 },
 "nbformat": 4,
 "nbformat_minor": 5
}
